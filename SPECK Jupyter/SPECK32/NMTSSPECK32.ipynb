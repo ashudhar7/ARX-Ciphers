{
 "cells": [
  {
   "cell_type": "code",
   "execution_count": 1,
   "metadata": {
    "collapsed": true
   },
   "outputs": [],
   "source": [
    "def mask_1(a,b,wshift):\n",
    "    s1=0\n",
    "    var=0\n",
    "    while(s1==0):\n",
    "        if(wshift==0):\n",
    "            return 0\n",
    "        a1=(a<<(wshift))&mask\n",
    "        b1=(b<<(wshift))&mask\n",
    "        s1=a1+b1\n",
    "        if(s1==0):\n",
    "            var=var+1\n",
    "        wshift=wshift-1\n",
    "        mask1=(mask<<var)&mask\n",
    "    return mask1"
   ]
  },
  {
   "cell_type": "markdown",
   "metadata": {},
   "source": [
    "## calculate weight when input alpha beta and output gamma are given(fixed)"
   ]
  },
  {
   "cell_type": "code",
   "execution_count": 2,
   "metadata": {
    "collapsed": true
   },
   "outputs": [],
   "source": [
    "def weight1(alpha1,beta1,gamma1):  \n",
    "    x1= (alpha1 << 1)& mask\n",
    "    y1= (beta1  << 1)& mask\n",
    "    z1= (gamma1  << 1)& mask\n",
    "    not_x=(x1^mask)\n",
    "    eq=((not_x)^y1)&(not_x^z1)\n",
    "    s=eq&(alpha1^beta1^gamma1^(y1))\n",
    "    if(s==0):        \n",
    "        h=bin((~eq)& mask)\n",
    "        wt=(h[1:].count(\"1\"))\n",
    "        return wt\n",
    "    else:\n",
    "        return 0"
   ]
  },
  {
   "cell_type": "code",
   "execution_count": 3,
   "metadata": {
    "collapsed": true
   },
   "outputs": [],
   "source": [
    "#alpha=49281\n",
    "#beta=32895\n",
    "#gamma=16382\n",
    "#wt=weight1(alpha,beta,gamma)\n",
    "#print (wt)"
   ]
  },
  {
   "cell_type": "markdown",
   "metadata": {},
   "source": [
    "## function to calculate weight for any gamma when inputs alpha beta are given(fixed) "
   ]
  },
  {
   "cell_type": "code",
   "execution_count": 4,
   "metadata": {
    "collapsed": true
   },
   "outputs": [],
   "source": [
    "import random\n",
    "def weight(alpha1,beta1):  \n",
    "    mask1=mask_1(alpha1,beta1,wshift)  \n",
    "    #random decision for output value gamma1\n",
    "    gamma1= (random.randint(0,mask))&mask1\n",
    "    if(alpha1==0 and beta1==0 and gamma1==0):\n",
    "        return 0,1,gamma1\n",
    "    x1= (alpha1 << 1)& mask\n",
    "    y1= (beta1  << 1)& mask\n",
    "    z1= (gamma1  << 1)& mask\n",
    "    not_x=(x1^mask)\n",
    "    eq=((not_x)^y1)&(not_x^z1)\n",
    "    s=eq&(alpha1^beta1^gamma1^(y1))\n",
    "    if(s==0):        \n",
    "        h=bin((~eq)& mask)\n",
    "        wt=(h[1:].count(\"1\"))\n",
    "        #return weight and random output for valid differential\n",
    "        #print hex(gamma1),wt\n",
    "        return wt,s,gamma1\n",
    "    else:\n",
    "        return 0,1,gamma1\n",
    "    \n"
   ]
  },
  {
   "cell_type": "markdown",
   "metadata": {},
   "source": [
    "## left and right circular shift function used by speck implementation"
   ]
  },
  {
   "cell_type": "code",
   "execution_count": 5,
   "metadata": {
    "collapsed": true
   },
   "outputs": [],
   "source": [
    "#right circular shifts\n",
    "def ROR(x,r):\n",
    "    x = ((x << (SPECK_TYPE - r)) + (x >> r)) & mask\n",
    "    return x\n",
    "\n",
    "#left circular shifts\n",
    "def ROL(x,r):\n",
    "    x = ((x >> (SPECK_TYPE - r)) + (x << r)) & mask\n",
    "    return x"
   ]
  },
  {
   "cell_type": "markdown",
   "metadata": {},
   "source": [
    "## implementation of speck cipher"
   ]
  },
  {
   "cell_type": "code",
   "execution_count": 6,
   "metadata": {
    "collapsed": true
   },
   "outputs": [],
   "source": [
    "def find_diff_path(alph,bet,gam,st0,st1,SPECK_ROUNDS, n):\n",
    "    lp=1             \n",
    "    temp_wt=0\n",
    "    tempwt_list=[]\n",
    "    tempdec_list=[]\n",
    "    for i in range (0,SPECK_ROUNDS):\n",
    "        chk=1\n",
    "        tempdec_list.append(st0)   \n",
    "        tempdec_list.append(st1) \n",
    "        st1=ROR(st1,alpha)\n",
    "        for ch in range(0,len(alph)):\n",
    "            if(alph[ch] == st0 and bet[ch]==st1):\n",
    "                wt=weight1(alph[ch],bet[ch],gam[ch])\n",
    "                op=gam[ch]\n",
    "                chk=0\n",
    "                break\n",
    "        if(chk!=0):\n",
    "            while(lp!=0):\n",
    "                wt,lp,op= weight(st0,st1)\n",
    "            lp=1\n",
    "        tempdec_list.append(op) \n",
    "        #weight of differential probability updated in decision list\n",
    "        tempwt_list.append(wt)\n",
    "        temp_wt= temp_wt+tempwt_list[i]\n",
    "        #update state with new valid output differential\n",
    "        st1=op\n",
    "        st0=ROL(st0,beta); st0=st0^st1\n",
    "    n=n+1\n",
    "    return tempwt_list, tempdec_list, temp_wt, n"
   ]
  },
  {
   "cell_type": "markdown",
   "metadata": {},
   "source": [
    "## nested monte carlo function applying on speck"
   ]
  },
  {
   "cell_type": "code",
   "execution_count": 7,
   "metadata": {
    "collapsed": true
   },
   "outputs": [],
   "source": [
    "def find_best_path(alph,bet,gam,st0,st1,SPECK_ROUNDS,wt_above,best_wt):\n",
    "    #using n as index value for list\n",
    "    n=0\n",
    "    #print st0,st1\n",
    "    for r in range(SPECK_ROUNDS,0,-1):\n",
    "        tempwt_list, tempdec_list, temp_wt, n = find_diff_path(alph,bet,gam,st0,st1,r, n)\n",
    "        if((temp_wt+wt_above) < best_wt):\n",
    "            best_wt= temp_wt+wt_above\n",
    "            for i,j in zip(range(3*(n-1),66), range(len(tempdec_list))):\n",
    "                dec_list[i]= tempdec_list[j]\n",
    "            for i,j in zip(range(n-1,22), range(0,len(tempwt_list))):\n",
    "                wt_list[i]= tempwt_list[j]\n",
    "            #for round (round-1) passing the states and weight\n",
    "        if(n<22):\n",
    "            st0=dec_list[3*(n+1)-3]\n",
    "            st1=dec_list[3*(n+1)-2]\n",
    "        wt_above= wt_above+wt_list[n-1]\n",
    "    return best_wt  "
   ]
  },
  {
   "cell_type": "markdown",
   "metadata": {},
   "source": [
    "# main function "
   ]
  },
  {
   "cell_type": "code",
   "execution_count": null,
   "metadata": {},
   "outputs": [
    {
     "name": "stdout",
     "output_type": "stream",
     "text": [
      "301\n",
      "295\n",
      "291\n"
     ]
    }
   ],
   "source": [
    "#alpha beta are for left and right circular shift     \n",
    "alpha, beta = 8,3\n",
    "SPECK_ROUNDS=13\n",
    "SPECK_TYPE=32\n",
    "mask = 2 ** 32 - 1\n",
    "wshift=31\n",
    "wt_above=0\n",
    "best_wt=99999\n",
    "wt_list=[0]*22\n",
    "dec_list=[0]*66\n",
    "s=9999\n",
    "\n",
    "#alph,bet,gam are files for highway values\n",
    "alph,bet,gam = [],[],[]\n",
    "with open('alph.txt') as inputfile:\n",
    "    for line in inputfile:\n",
    "        alph.append(int(line.strip()))\n",
    "        \n",
    "with open('bet.txt') as inputfile:\n",
    "    for line in inputfile:\n",
    "        bet.append(int(line.strip()))\n",
    "        \n",
    "with open('gam.txt') as inputfile:\n",
    "    for line in inputfile:\n",
    "        gam.append(int(line.strip()))\n",
    "      \n",
    "#nested loop to run number of time\n",
    "while(best_wt>57):\n",
    "    #number of elements in list of alpha or beta or gama\n",
    "    ran= random.randint(0,3951387)\n",
    "    st1=ROL(bet[ran],alpha)\n",
    "    st0=alph[ran]\n",
    "    best_wt=find_best_path(alph,bet,gam,st0,st1,SPECK_ROUNDS,wt_above,best_wt)\n",
    "    if(best_wt<s):\n",
    "             s=best_wt\n",
    "             print (best_wt)\n",
    "\n",
    "print (\"Dec list is:\")\n",
    "for i in range(0,SPECK_ROUNDS):    \n",
    "    print (\"Starting input of %i round and weight:\" %i,hex(dec_list[3*i+1]), hex(dec_list[3*i]),hex(dec_list[3*i+2]),(wt_list[i]))\n",
    "       \n",
    "print (\"Best weight is:\", best_wt) \n",
    "    "
   ]
  },
  {
   "cell_type": "code",
   "execution_count": null,
   "metadata": {
    "collapsed": true
   },
   "outputs": [],
   "source": []
  }
 ],
 "metadata": {
  "kernelspec": {
   "display_name": "Python 3",
   "language": "python",
   "name": "python3"
  },
  "language_info": {
   "codemirror_mode": {
    "name": "ipython",
    "version": 3
   },
   "file_extension": ".py",
   "mimetype": "text/x-python",
   "name": "python",
   "nbconvert_exporter": "python",
   "pygments_lexer": "ipython3",
   "version": "3.6.1"
  }
 },
 "nbformat": 4,
 "nbformat_minor": 2
}
